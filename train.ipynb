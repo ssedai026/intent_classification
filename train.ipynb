{
 "cells": [
  {
   "cell_type": "code",
   "execution_count": 1,
   "metadata": {},
   "outputs": [
    {
     "name": "stdout",
     "output_type": "stream",
     "text": [
      "Requirement already satisfied: tensorflow in /Users/ssedai/python-envs/venvpy3/lib/python3.7/site-packages (2.3.0)\n",
      "Requirement already satisfied: tensorboard<3,>=2.3.0 in /Users/ssedai/python-envs/venvpy3/lib/python3.7/site-packages (from tensorflow) (2.4.1)\n",
      "Requirement already satisfied: numpy<1.19.0,>=1.16.0 in /Users/ssedai/python-envs/venvpy3/lib/python3.7/site-packages (from tensorflow) (1.18.2)\n",
      "Requirement already satisfied: h5py<2.11.0,>=2.10.0 in /Users/ssedai/python-envs/venvpy3/lib/python3.7/site-packages (from tensorflow) (2.10.0)\n",
      "Requirement already satisfied: six>=1.12.0 in /Users/ssedai/python-envs/venvpy3/lib/python3.7/site-packages (from tensorflow) (1.12.0)\n",
      "Requirement already satisfied: protobuf>=3.9.2 in /Users/ssedai/python-envs/venvpy3/lib/python3.7/site-packages (from tensorflow) (3.11.3)\n",
      "Requirement already satisfied: wheel>=0.26 in /Users/ssedai/python-envs/venvpy3/lib/python3.7/site-packages (from tensorflow) (0.33.1)\n",
      "Requirement already satisfied: astunparse==1.6.3 in /Users/ssedai/python-envs/venvpy3/lib/python3.7/site-packages (from tensorflow) (1.6.3)\n",
      "Requirement already satisfied: keras-preprocessing<1.2,>=1.1.1 in /Users/ssedai/python-envs/venvpy3/lib/python3.7/site-packages (from tensorflow) (1.1.2)\n",
      "Requirement already satisfied: tensorflow-estimator<2.4.0,>=2.3.0 in /Users/ssedai/python-envs/venvpy3/lib/python3.7/site-packages (from tensorflow) (2.3.0)\n",
      "Requirement already satisfied: absl-py>=0.7.0 in /Users/ssedai/python-envs/venvpy3/lib/python3.7/site-packages (from tensorflow) (0.7.0)\n",
      "Requirement already satisfied: google-pasta>=0.1.8 in /Users/ssedai/python-envs/venvpy3/lib/python3.7/site-packages (from tensorflow) (0.2.0)\n",
      "Requirement already satisfied: wrapt>=1.11.1 in /Users/ssedai/python-envs/venvpy3/lib/python3.7/site-packages (from tensorflow) (1.12.1)\n",
      "Requirement already satisfied: grpcio>=1.8.6 in /Users/ssedai/python-envs/venvpy3/lib/python3.7/site-packages (from tensorflow) (1.35.0)\n",
      "Requirement already satisfied: gast==0.3.3 in /Users/ssedai/python-envs/venvpy3/lib/python3.7/site-packages (from tensorflow) (0.3.3)\n",
      "Requirement already satisfied: opt-einsum>=2.3.2 in /Users/ssedai/python-envs/venvpy3/lib/python3.7/site-packages (from tensorflow) (3.2.0)\n",
      "Requirement already satisfied: termcolor>=1.1.0 in /Users/ssedai/python-envs/venvpy3/lib/python3.7/site-packages (from tensorflow) (1.1.0)\n",
      "Requirement already satisfied: scipy==1.4.1 in /Users/ssedai/python-envs/venvpy3/lib/python3.7/site-packages (from tensorflow) (1.4.1)\n",
      "Requirement already satisfied: setuptools>=41.0.0 in /Users/ssedai/python-envs/venvpy3/lib/python3.7/site-packages (from tensorboard<3,>=2.3.0->tensorflow) (50.3.0)\n",
      "Requirement already satisfied: markdown>=2.6.8 in /Users/ssedai/python-envs/venvpy3/lib/python3.7/site-packages (from tensorboard<3,>=2.3.0->tensorflow) (3.0.1)\n",
      "Requirement already satisfied: tensorboard-plugin-wit>=1.6.0 in /Users/ssedai/python-envs/venvpy3/lib/python3.7/site-packages (from tensorboard<3,>=2.3.0->tensorflow) (1.6.0.post3)\n",
      "Requirement already satisfied: google-auth<2,>=1.6.3 in /Users/ssedai/python-envs/venvpy3/lib/python3.7/site-packages (from tensorboard<3,>=2.3.0->tensorflow) (1.13.1)\n",
      "Requirement already satisfied: requests<3,>=2.21.0 in /Users/ssedai/python-envs/venvpy3/lib/python3.7/site-packages (from tensorboard<3,>=2.3.0->tensorflow) (2.23.0)\n",
      "Requirement already satisfied: google-auth-oauthlib<0.5,>=0.4.1 in /Users/ssedai/python-envs/venvpy3/lib/python3.7/site-packages (from tensorboard<3,>=2.3.0->tensorflow) (0.4.1)\n",
      "Requirement already satisfied: werkzeug>=0.11.15 in /Users/ssedai/python-envs/venvpy3/lib/python3.7/site-packages (from tensorboard<3,>=2.3.0->tensorflow) (0.14.1)\n",
      "Requirement already satisfied: rsa<4.1,>=3.1.4 in /Users/ssedai/python-envs/venvpy3/lib/python3.7/site-packages (from google-auth<2,>=1.6.3->tensorboard<3,>=2.3.0->tensorflow) (3.4.2)\n",
      "Requirement already satisfied: cachetools<5.0,>=2.0.0 in /Users/ssedai/python-envs/venvpy3/lib/python3.7/site-packages (from google-auth<2,>=1.6.3->tensorboard<3,>=2.3.0->tensorflow) (4.1.0)\n",
      "Requirement already satisfied: pyasn1-modules>=0.2.1 in /Users/ssedai/python-envs/venvpy3/lib/python3.7/site-packages (from google-auth<2,>=1.6.3->tensorboard<3,>=2.3.0->tensorflow) (0.2.8)\n",
      "Requirement already satisfied: idna<3,>=2.5 in /Users/ssedai/python-envs/venvpy3/lib/python3.7/site-packages (from requests<3,>=2.21.0->tensorboard<3,>=2.3.0->tensorflow) (2.7)\n",
      "Requirement already satisfied: urllib3!=1.25.0,!=1.25.1,<1.26,>=1.21.1 in /Users/ssedai/python-envs/venvpy3/lib/python3.7/site-packages (from requests<3,>=2.21.0->tensorboard<3,>=2.3.0->tensorflow) (1.23)\n",
      "Requirement already satisfied: chardet<4,>=3.0.2 in /Users/ssedai/python-envs/venvpy3/lib/python3.7/site-packages (from requests<3,>=2.21.0->tensorboard<3,>=2.3.0->tensorflow) (3.0.4)\n",
      "Requirement already satisfied: certifi>=2017.4.17 in /Users/ssedai/python-envs/venvpy3/lib/python3.7/site-packages (from requests<3,>=2.21.0->tensorboard<3,>=2.3.0->tensorflow) (2018.11.29)\n",
      "Requirement already satisfied: requests-oauthlib>=0.7.0 in /Users/ssedai/python-envs/venvpy3/lib/python3.7/site-packages (from google-auth-oauthlib<0.5,>=0.4.1->tensorboard<3,>=2.3.0->tensorflow) (1.3.0)\n",
      "Requirement already satisfied: pyasn1>=0.1.3 in /Users/ssedai/python-envs/venvpy3/lib/python3.7/site-packages (from rsa<4.1,>=3.1.4->google-auth<2,>=1.6.3->tensorboard<3,>=2.3.0->tensorflow) (0.4.8)\n",
      "Requirement already satisfied: oauthlib>=3.0.0 in /Users/ssedai/python-envs/venvpy3/lib/python3.7/site-packages (from requests-oauthlib>=0.7.0->google-auth-oauthlib<0.5,>=0.4.1->tensorboard<3,>=2.3.0->tensorflow) (3.1.0)\n",
      "\u001b[33mYou are using pip version 19.0.3, however version 21.0.1 is available.\n",
      "You should consider upgrading via the 'pip install --upgrade pip' command.\u001b[0m\n"
     ]
    }
   ],
   "source": [
    "!pip install tensorflow\n",
    "import numpy as np\n",
    "import os\n",
    "import tensorflow as tf\n",
    "\n"
   ]
  },
  {
   "cell_type": "code",
   "execution_count": 2,
   "metadata": {},
   "outputs": [
    {
     "data": {
      "text/plain": [
       "['train_features',\n",
       " 'train_labels',\n",
       " 'val_features',\n",
       " 'val_labels',\n",
       " 'test_features',\n",
       " 'test_labels',\n",
       " 'label_maps',\n",
       " 'allow_pickle']"
      ]
     },
     "execution_count": 2,
     "metadata": {},
     "output_type": "execute_result"
    }
   ],
   "source": [
    "#model_name = 'distilbert-base-nli-stsb-mean-tokens'\n",
    "model_name ='paraphrase-distilroberta-base-v1'\n",
    "npzfile = np.load('train_val_test_'+model_name+'.npz',allow_pickle=True)\n",
    "npzfile.files"
   ]
  },
  {
   "cell_type": "code",
   "execution_count": 3,
   "metadata": {},
   "outputs": [],
   "source": [
    "train_features = npzfile['train_features']\n",
    "train_labels = npzfile['train_labels']\n",
    "val_features = npzfile['val_features']\n",
    "val_labels = npzfile['val_labels']\n",
    "label_map, label_map_inv = npzfile['label_maps']\n",
    "D=train_features.shape[1]\n",
    "C= len(label_map_inv.keys())"
   ]
  },
  {
   "cell_type": "code",
   "execution_count": 4,
   "metadata": {},
   "outputs": [],
   "source": [
    "#one hot\n",
    "train_labels_oh = tf.one_hot(train_labels, depth = C)\n",
    "val_labels_oh = tf.one_hot(val_labels, depth = C)\n",
    "#test_labels_oh = tf.one_hot(test_labels, depth = C)"
   ]
  },
  {
   "cell_type": "code",
   "execution_count": 5,
   "metadata": {},
   "outputs": [
    {
     "data": {
      "text/plain": [
       "array([32, 32, 32, ..., 34, 34, 34])"
      ]
     },
     "execution_count": 5,
     "metadata": {},
     "output_type": "execute_result"
    }
   ],
   "source": [
    "train_labels"
   ]
  },
  {
   "cell_type": "code",
   "execution_count": 6,
   "metadata": {},
   "outputs": [
    {
     "data": {
      "text/plain": [
       "150"
      ]
     },
     "execution_count": 6,
     "metadata": {},
     "output_type": "execute_result"
    }
   ],
   "source": [
    "len(label_map_inv.keys())"
   ]
  },
  {
   "cell_type": "code",
   "execution_count": 16,
   "metadata": {},
   "outputs": [],
   "source": [
    "dr_rate=0.2\n",
    "\n",
    "input_layer =  tf.keras.layers.Input(shape=(D,))\n",
    "out = tf.keras.layers.Dense(1024, activation='relu') (input_layer)\n",
    "out = tf.keras.layers.Dropout(dr_rate) (out)\n",
    "out = tf.keras.layers.Dense(1024, activation='relu')(out)\n",
    "out = tf.keras.layers.Dropout(dr_rate) (out)\n",
    "out = tf.keras.layers.Dense(512, activation='relu')(out)\n",
    "out = tf.keras.layers.Dropout(dr_rate)(out)\n",
    "out = tf.keras.layers.Dense(256, activation='relu')(out)\n",
    "out = tf.keras.layers.Dropout(dr_rate)(out)\n",
    "out = tf.keras.layers.Dense(C) (out)\n",
    "\n",
    "model = tf.keras.Model(input_layer, out)\n",
    "    \n",
    "model.compile(optimizer='adam',\n",
    "              loss=tf.keras.losses.CategoricalCrossentropy(from_logits=True),\n",
    "              metrics=['accuracy'])\n",
    "\n",
    "\n"
   ]
  },
  {
   "cell_type": "code",
   "execution_count": 17,
   "metadata": {},
   "outputs": [],
   "source": [
    "\n",
    "def save_model_json(model, path):\n",
    "\n",
    "    print(\"Saving model  structure as json\")\n",
    "\n",
    "    with open(path, \"w\") as text_file:\n",
    "        text_file.write(model.to_json())\n",
    "    print(\"Done\")\n"
   ]
  },
  {
   "cell_type": "code",
   "execution_count": 18,
   "metadata": {},
   "outputs": [
    {
     "name": "stdout",
     "output_type": "stream",
     "text": [
      "Saving model  structure as json\n",
      "Done\n",
      "Epoch 1/20\n",
      "329/329 [==============================] - ETA: 0s - loss: 1.9494 - accuracy: 0.5414\n",
      "Epoch 00001: val_loss improved from inf to 0.84857, saving model to savedmodel/intent_clf.hd5\n",
      "329/329 [==============================] - 5s 16ms/step - loss: 1.9494 - accuracy: 0.5414 - val_loss: 0.8486 - val_accuracy: 0.7687\n",
      "Epoch 2/20\n",
      "325/329 [============================>.] - ETA: 0s - loss: 0.4552 - accuracy: 0.8692\n",
      "Epoch 00002: val_loss improved from 0.84857 to 0.49249, saving model to savedmodel/intent_clf.hd5\n",
      "329/329 [==============================] - 5s 16ms/step - loss: 0.4526 - accuracy: 0.8701 - val_loss: 0.4925 - val_accuracy: 0.8727\n",
      "Epoch 3/20\n",
      "327/329 [============================>.] - ETA: 0s - loss: 0.2458 - accuracy: 0.9293\n",
      "Epoch 00003: val_loss improved from 0.49249 to 0.47019, saving model to savedmodel/intent_clf.hd5\n",
      "329/329 [==============================] - 5s 15ms/step - loss: 0.2454 - accuracy: 0.9295 - val_loss: 0.4702 - val_accuracy: 0.8827\n",
      "Epoch 4/20\n",
      "329/329 [==============================] - ETA: 0s - loss: 0.1855 - accuracy: 0.9452\n",
      "Epoch 00004: val_loss improved from 0.47019 to 0.41560, saving model to savedmodel/intent_clf.hd5\n",
      "329/329 [==============================] - 5s 17ms/step - loss: 0.1855 - accuracy: 0.9452 - val_loss: 0.4156 - val_accuracy: 0.9030\n",
      "Epoch 5/20\n",
      "327/329 [============================>.] - ETA: 0s - loss: 0.1446 - accuracy: 0.9604\n",
      "Epoch 00005: val_loss did not improve from 0.41560\n",
      "329/329 [==============================] - 5s 16ms/step - loss: 0.1447 - accuracy: 0.9605 - val_loss: 0.4354 - val_accuracy: 0.9013\n",
      "Epoch 6/20\n",
      "327/329 [============================>.] - ETA: 0s - loss: 0.1383 - accuracy: 0.9619\n",
      "Epoch 00006: val_loss did not improve from 0.41560\n",
      "329/329 [==============================] - 6s 17ms/step - loss: 0.1380 - accuracy: 0.9619 - val_loss: 0.4491 - val_accuracy: 0.8997\n",
      "Epoch 7/20\n",
      "328/329 [============================>.] - ETA: 0s - loss: 0.0578 - accuracy: 0.9832\n",
      "Epoch 00007: val_loss improved from 0.41560 to 0.40156, saving model to savedmodel/intent_clf.hd5\n",
      "329/329 [==============================] - 6s 18ms/step - loss: 0.0577 - accuracy: 0.9833 - val_loss: 0.4016 - val_accuracy: 0.9177\n",
      "Epoch 8/20\n",
      "326/329 [============================>.] - ETA: 0s - loss: 0.0335 - accuracy: 0.9903\n",
      "Epoch 00008: val_loss did not improve from 0.40156\n",
      "329/329 [==============================] - 6s 17ms/step - loss: 0.0338 - accuracy: 0.9901 - val_loss: 0.4045 - val_accuracy: 0.9173\n",
      "Epoch 9/20\n",
      "328/329 [============================>.] - ETA: 0s - loss: 0.0230 - accuracy: 0.9931\n",
      "Epoch 00009: val_loss improved from 0.40156 to 0.39725, saving model to savedmodel/intent_clf.hd5\n",
      "329/329 [==============================] - 6s 19ms/step - loss: 0.0230 - accuracy: 0.9932 - val_loss: 0.3972 - val_accuracy: 0.9257\n",
      "Epoch 10/20\n",
      "327/329 [============================>.] - ETA: 0s - loss: 0.0253 - accuracy: 0.9925\n",
      "Epoch 00010: val_loss did not improve from 0.39725\n",
      "329/329 [==============================] - 7s 21ms/step - loss: 0.0253 - accuracy: 0.9924 - val_loss: 0.4049 - val_accuracy: 0.9247\n",
      "Epoch 11/20\n",
      "328/329 [============================>.] - ETA: 0s - loss: 0.0183 - accuracy: 0.9950\n",
      "Epoch 00011: val_loss did not improve from 0.39725\n",
      "329/329 [==============================] - 6s 18ms/step - loss: 0.0183 - accuracy: 0.9950 - val_loss: 0.4719 - val_accuracy: 0.9217\n",
      "Epoch 12/20\n",
      "329/329 [==============================] - ETA: 0s - loss: 0.0144 - accuracy: 0.9967\n",
      "Epoch 00012: val_loss did not improve from 0.39725\n",
      "329/329 [==============================] - 6s 18ms/step - loss: 0.0144 - accuracy: 0.9967 - val_loss: 0.4112 - val_accuracy: 0.9300\n",
      "Epoch 13/20\n",
      "327/329 [============================>.] - ETA: 0s - loss: 0.0082 - accuracy: 0.9975\n",
      "Epoch 00013: val_loss did not improve from 0.39725\n",
      "329/329 [==============================] - 6s 18ms/step - loss: 0.0082 - accuracy: 0.9975 - val_loss: 0.4063 - val_accuracy: 0.9290\n",
      "Epoch 14/20\n",
      "326/329 [============================>.] - ETA: 0s - loss: 0.0045 - accuracy: 0.9987\n",
      "Epoch 00014: val_loss improved from 0.39725 to 0.38927, saving model to savedmodel/intent_clf.hd5\n",
      "329/329 [==============================] - 6s 19ms/step - loss: 0.0044 - accuracy: 0.9987 - val_loss: 0.3893 - val_accuracy: 0.9347\n",
      "Epoch 15/20\n",
      "328/329 [============================>.] - ETA: 0s - loss: 0.0047 - accuracy: 0.9987\n",
      "Epoch 00015: val_loss did not improve from 0.38927\n",
      "329/329 [==============================] - 6s 18ms/step - loss: 0.0047 - accuracy: 0.9987 - val_loss: 0.3968 - val_accuracy: 0.9307\n",
      "Epoch 16/20\n",
      "326/329 [============================>.] - ETA: 0s - loss: 0.0040 - accuracy: 0.9988\n",
      "Epoch 00016: val_loss did not improve from 0.38927\n",
      "329/329 [==============================] - 5s 16ms/step - loss: 0.0042 - accuracy: 0.9987 - val_loss: 0.3998 - val_accuracy: 0.9290\n",
      "Epoch 17/20\n",
      "328/329 [============================>.] - ETA: 0s - loss: 0.0042 - accuracy: 0.9988\n",
      "Epoch 00017: val_loss did not improve from 0.38927\n",
      "329/329 [==============================] - 6s 18ms/step - loss: 0.0042 - accuracy: 0.9988 - val_loss: 0.4045 - val_accuracy: 0.9313\n",
      "Epoch 18/20\n",
      "327/329 [============================>.] - ETA: 0s - loss: 0.0025 - accuracy: 0.9993\n",
      "Epoch 00018: val_loss did not improve from 0.38927\n",
      "329/329 [==============================] - 5s 16ms/step - loss: 0.0025 - accuracy: 0.9993 - val_loss: 0.4016 - val_accuracy: 0.9290\n",
      "Epoch 19/20\n",
      "326/329 [============================>.] - ETA: 0s - loss: 0.0018 - accuracy: 0.9997\n",
      "Epoch 00019: val_loss did not improve from 0.38927\n",
      "329/329 [==============================] - 5s 16ms/step - loss: 0.0018 - accuracy: 0.9997 - val_loss: 0.4014 - val_accuracy: 0.9307\n",
      "Epoch 20/20\n",
      "328/329 [============================>.] - ETA: 0s - loss: 0.0022 - accuracy: 0.9994\n",
      "Epoch 00020: val_loss did not improve from 0.38927\n",
      "329/329 [==============================] - 6s 17ms/step - loss: 0.0022 - accuracy: 0.9994 - val_loss: 0.4031 - val_accuracy: 0.9303\n"
     ]
    },
    {
     "data": {
      "text/plain": [
       "<tensorflow.python.keras.callbacks.History at 0x7f83270e6470>"
      ]
     },
     "execution_count": 18,
     "metadata": {},
     "output_type": "execute_result"
    }
   ],
   "source": [
    "#Training of model\n",
    "model_save_dir = 'savedmodel'\n",
    "if(not os.path.exists(model_save_dir)):\n",
    "    os.mkdir(model_save_dir)\n",
    "model_filepath = os.path.join(model_save_dir,   'intent_clf.hd5') \n",
    "save_model_json(model, os.path.join(model_save_dir,   'intent_clf.json'))\n",
    "reduce_lr = tf.keras.callbacks.ReduceLROnPlateau(monitor='val_loss', mode='auto', factor=0.5, patience=2, min_lr=1e-6)\n",
    "model_checkpoint = tf.keras.callbacks.ModelCheckpoint(model_filepath, monitor='val_loss', verbose=1, save_best_only=True,\n",
    "                                               save_weights_only=True, mode='auto', save_freq='epoch')\n",
    "\n",
    "\n",
    "model.fit(train_features, train_labels_oh, validation_data = (val_features,val_labels_oh), \n",
    "          epochs=20, callbacks=[reduce_lr, model_checkpoint])"
   ]
  },
  {
   "cell_type": "code",
   "execution_count": null,
   "metadata": {},
   "outputs": [],
   "source": []
  }
 ],
 "metadata": {
  "kernelspec": {
   "display_name": "Python 3",
   "language": "python",
   "name": "python3"
  },
  "language_info": {
   "codemirror_mode": {
    "name": "ipython",
    "version": 3
   },
   "file_extension": ".py",
   "mimetype": "text/x-python",
   "name": "python",
   "nbconvert_exporter": "python",
   "pygments_lexer": "ipython3",
   "version": "3.7.2"
  }
 },
 "nbformat": 4,
 "nbformat_minor": 2
}
