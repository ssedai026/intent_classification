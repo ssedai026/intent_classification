{
 "cells": [
  {
   "cell_type": "code",
   "execution_count": 1,
   "metadata": {
    "colab": {
     "base_uri": "https://localhost:8080/"
    },
    "id": "fhzUafqRSB-_",
    "outputId": "31ee4f4a-87ef-4090-950e-8a28866b9b79"
   },
   "outputs": [
    {
     "name": "stdout",
     "output_type": "stream",
     "text": [
      "Requirement already satisfied: torch in /Users/ssedai/python-envs/venvpy3/lib/python3.7/site-packages (1.7.1)\n",
      "Requirement already satisfied: numpy in /Users/ssedai/python-envs/venvpy3/lib/python3.7/site-packages (from torch) (1.18.2)\n",
      "Requirement already satisfied: typing-extensions in /Users/ssedai/python-envs/venvpy3/lib/python3.7/site-packages (from torch) (3.7.4.3)\n",
      "\u001b[33mYou are using pip version 19.0.3, however version 21.0.1 is available.\n",
      "You should consider upgrading via the 'pip install --upgrade pip' command.\u001b[0m\n",
      "Requirement already satisfied: sentence_transformers in /Users/ssedai/python-envs/venvpy3/lib/python3.7/site-packages (0.4.1.2)\n",
      "Requirement already satisfied: tqdm in /Users/ssedai/python-envs/venvpy3/lib/python3.7/site-packages (from sentence_transformers) (4.36.1)\n",
      "Requirement already satisfied: sentencepiece in /Users/ssedai/python-envs/venvpy3/lib/python3.7/site-packages (from sentence_transformers) (0.1.95)\n",
      "Requirement already satisfied: transformers<5.0.0,>=3.1.0 in /Users/ssedai/python-envs/venvpy3/lib/python3.7/site-packages (from sentence_transformers) (4.3.2)\n",
      "Requirement already satisfied: numpy in /Users/ssedai/python-envs/venvpy3/lib/python3.7/site-packages (from sentence_transformers) (1.18.2)\n",
      "Requirement already satisfied: nltk in /Users/ssedai/python-envs/venvpy3/lib/python3.7/site-packages (from sentence_transformers) (3.5)\n",
      "Requirement already satisfied: torch>=1.6.0 in /Users/ssedai/python-envs/venvpy3/lib/python3.7/site-packages (from sentence_transformers) (1.7.1)\n",
      "Requirement already satisfied: scikit-learn in /Users/ssedai/python-envs/venvpy3/lib/python3.7/site-packages (from sentence_transformers) (0.23.2)\n",
      "Requirement already satisfied: scipy in /Users/ssedai/python-envs/venvpy3/lib/python3.7/site-packages (from sentence_transformers) (1.4.1)\n",
      "Requirement already satisfied: filelock in /Users/ssedai/python-envs/venvpy3/lib/python3.7/site-packages (from transformers<5.0.0,>=3.1.0->sentence_transformers) (3.0.12)\n",
      "Requirement already satisfied: packaging in /Users/ssedai/python-envs/venvpy3/lib/python3.7/site-packages (from transformers<5.0.0,>=3.1.0->sentence_transformers) (20.9)\n",
      "Requirement already satisfied: tokenizers<0.11,>=0.10.1 in /Users/ssedai/python-envs/venvpy3/lib/python3.7/site-packages (from transformers<5.0.0,>=3.1.0->sentence_transformers) (0.10.1)\n",
      "Requirement already satisfied: regex!=2019.12.17 in /Users/ssedai/python-envs/venvpy3/lib/python3.7/site-packages (from transformers<5.0.0,>=3.1.0->sentence_transformers) (2020.11.13)\n",
      "Requirement already satisfied: sacremoses in /Users/ssedai/python-envs/venvpy3/lib/python3.7/site-packages (from transformers<5.0.0,>=3.1.0->sentence_transformers) (0.0.43)\n",
      "Requirement already satisfied: importlib-metadata; python_version < \"3.8\" in /Users/ssedai/python-envs/venvpy3/lib/python3.7/site-packages (from transformers<5.0.0,>=3.1.0->sentence_transformers) (1.6.0)\n",
      "Requirement already satisfied: requests in /Users/ssedai/python-envs/venvpy3/lib/python3.7/site-packages (from transformers<5.0.0,>=3.1.0->sentence_transformers) (2.23.0)\n",
      "Requirement already satisfied: joblib in /Users/ssedai/python-envs/venvpy3/lib/python3.7/site-packages (from nltk->sentence_transformers) (0.13.2)\n",
      "Requirement already satisfied: click in /Users/ssedai/python-envs/venvpy3/lib/python3.7/site-packages (from nltk->sentence_transformers) (7.1.2)\n",
      "Requirement already satisfied: typing-extensions in /Users/ssedai/python-envs/venvpy3/lib/python3.7/site-packages (from torch>=1.6.0->sentence_transformers) (3.7.4.3)\n",
      "Requirement already satisfied: threadpoolctl>=2.0.0 in /Users/ssedai/python-envs/venvpy3/lib/python3.7/site-packages (from scikit-learn->sentence_transformers) (2.1.0)\n",
      "Requirement already satisfied: pyparsing>=2.0.2 in /Users/ssedai/python-envs/venvpy3/lib/python3.7/site-packages (from packaging->transformers<5.0.0,>=3.1.0->sentence_transformers) (2.3.1)\n",
      "Requirement already satisfied: six in /Users/ssedai/python-envs/venvpy3/lib/python3.7/site-packages (from sacremoses->transformers<5.0.0,>=3.1.0->sentence_transformers) (1.12.0)\n",
      "Requirement already satisfied: zipp>=0.5 in /Users/ssedai/python-envs/venvpy3/lib/python3.7/site-packages (from importlib-metadata; python_version < \"3.8\"->transformers<5.0.0,>=3.1.0->sentence_transformers) (3.1.0)\n",
      "Requirement already satisfied: chardet<4,>=3.0.2 in /Users/ssedai/python-envs/venvpy3/lib/python3.7/site-packages (from requests->transformers<5.0.0,>=3.1.0->sentence_transformers) (3.0.4)\n",
      "Requirement already satisfied: urllib3!=1.25.0,!=1.25.1,<1.26,>=1.21.1 in /Users/ssedai/python-envs/venvpy3/lib/python3.7/site-packages (from requests->transformers<5.0.0,>=3.1.0->sentence_transformers) (1.23)\n",
      "Requirement already satisfied: certifi>=2017.4.17 in /Users/ssedai/python-envs/venvpy3/lib/python3.7/site-packages (from requests->transformers<5.0.0,>=3.1.0->sentence_transformers) (2018.11.29)\n",
      "Requirement already satisfied: idna<3,>=2.5 in /Users/ssedai/python-envs/venvpy3/lib/python3.7/site-packages (from requests->transformers<5.0.0,>=3.1.0->sentence_transformers) (2.7)\n",
      "\u001b[33mYou are using pip version 19.0.3, however version 21.0.1 is available.\n",
      "You should consider upgrading via the 'pip install --upgrade pip' command.\u001b[0m\n"
     ]
    }
   ],
   "source": [
    "\n",
    "!pip install torch\n",
    "!pip install sentence_transformers\n",
    "import json\n",
    "from sentence_transformers import SentenceTransformer\n",
    "import numpy as np\n",
    "import os\n"
   ]
  },
  {
   "cell_type": "code",
   "execution_count": 2,
   "metadata": {
    "colab": {
     "base_uri": "https://localhost:8080/"
    },
    "id": "vY1CQ1_zSabJ",
    "outputId": "a8ed5838-9742-4a2e-e8ff-451086f0815c"
   },
   "outputs": [
    {
     "name": "stderr",
     "output_type": "stream",
     "text": [
      "I0302 16:14:26.752358 4596407808 SentenceTransformer.py:39] Load pretrained SentenceTransformer: paraphrase-distilroberta-base-v1\n",
      "I0302 16:14:26.753896 4596407808 SentenceTransformer.py:43] Did not find folder paraphrase-distilroberta-base-v1\n",
      "I0302 16:14:26.755661 4596407808 SentenceTransformer.py:49] Try to download model from server: https://sbert.net/models/paraphrase-distilroberta-base-v1.zip\n",
      "I0302 16:14:26.757628 4596407808 SentenceTransformer.py:100] Load SentenceTransformer from folder: /Users/ssedai/.cache/torch/sentence_transformers/sbert.net_models_paraphrase-distilroberta-base-v1\n",
      "I0302 16:14:28.500162 4596407808 SentenceTransformer.py:124] Use pytorch device: cpu\n"
     ]
    }
   ],
   "source": [
    "\n",
    "\n",
    "#Init the BERT model to compute sentence embedding\n",
    "#deberta-v2-xlarge-mnli \n",
    "model_name = 'paraphrase-distilroberta-base-v1' #distilbert-base-nli-stsb-mean-tokens'\n",
    "\n",
    "model = SentenceTransformer(model_name)\n",
    "\n"
   ]
  },
  {
   "cell_type": "code",
   "execution_count": 4,
   "metadata": {
    "colab": {
     "base_uri": "https://localhost:8080/"
    },
    "id": "GQ18Kd5F3uKe",
    "outputId": "d4463bd8-0df6-4b55-8805-1e8a0308579b"
   },
   "outputs": [],
   "source": [
    "#download the data\n",
    "if(not os.path.exists('oos-eval')):\n",
    "  !git clone https://github.com/clinc/oos-eval.git"
   ]
  },
  {
   "cell_type": "code",
   "execution_count": 5,
   "metadata": {
    "id": "n-RrtKWvTG9m"
   },
   "outputs": [],
   "source": [
    "def create_dataset(data_split, label_maps=None):\n",
    "    \"\"\"\n",
    "    Extracts features from sentences \n",
    "    returns features, class labels and a tuple consisting of label map dict and its inverse\n",
    "    \"\"\"\n",
    "    labels = []\n",
    "    sentences=[]\n",
    "    for d in data_split:\n",
    "        sentences.append(d[0])\n",
    "        labels.append(d[1])\n",
    "    if(label_maps is None):\n",
    "        unique_labels = list(set(labels))\n",
    "        label_map = { ul:i for  i, ul in enumerate(unique_labels)}\n",
    "        label_map_inverse = { i:ul for  i, ul in enumerate(unique_labels)}\n",
    "    else:\n",
    "        label_map, label_map_inverse = label_maps\n",
    "    \n",
    "    labels_class=[label_map[l] for l in labels]\n",
    "    sentence_embeddings = model.encode(sentences)\n",
    "    return sentence_embeddings, labels_class, (label_map,label_map_inverse)"
   ]
  },
  {
   "cell_type": "code",
   "execution_count": 6,
   "metadata": {
    "colab": {
     "base_uri": "https://localhost:8080/"
    },
    "id": "4yPyZk6ETQkP",
    "outputId": "57e8e1aa-c04f-451b-dffb-b66c090c8fc0"
   },
   "outputs": [
    {
     "name": "stdout",
     "output_type": "stream",
     "text": [
      "dict_keys(['oos_val', 'val', 'train', 'oos_test', 'test', 'oos_train'])\n"
     ]
    }
   ],
   "source": [
    "#open imbalanced data\n",
    "with open('oos-eval/data/data_imbalanced.json') as json_file:\n",
    "    data = json.load(json_file)\n",
    "    print(data.keys())\n",
    "\n",
    "    train =  data['train']\n",
    "    val =  data['val']\n",
    "    test =  data['test']\n",
    "             \n",
    "    oos_train =  data['oos_train']\n",
    "    oos_val =  data['oos_val']\n",
    "    oos_test =  data['oos_test']"
   ]
  },
  {
   "cell_type": "code",
   "execution_count": null,
   "metadata": {
    "id": "JYOopslNUZaU"
   },
   "outputs": [],
   "source": []
  },
  {
   "cell_type": "code",
   "execution_count": 7,
   "metadata": {
    "id": "wEb3KeYfTXx1"
   },
   "outputs": [
    {
     "data": {
      "application/vnd.jupyter.widget-view+json": {
       "model_id": "67d53c6d0b9e4f559632b15cc8927cbd",
       "version_major": 2,
       "version_minor": 0
      },
      "text/plain": [
       "HBox(children=(IntProgress(value=0, description='Batches', max=329, style=ProgressStyle(description_width='ini…"
      ]
     },
     "metadata": {},
     "output_type": "display_data"
    },
    {
     "name": "stdout",
     "output_type": "stream",
     "text": [
      "\n"
     ]
    },
    {
     "data": {
      "application/vnd.jupyter.widget-view+json": {
       "model_id": "7a2ce6bd5f214343abff5120d6408d82",
       "version_major": 2,
       "version_minor": 0
      },
      "text/plain": [
       "HBox(children=(IntProgress(value=0, description='Batches', max=94, style=ProgressStyle(description_width='init…"
      ]
     },
     "metadata": {},
     "output_type": "display_data"
    },
    {
     "name": "stdout",
     "output_type": "stream",
     "text": [
      "\n"
     ]
    },
    {
     "data": {
      "application/vnd.jupyter.widget-view+json": {
       "model_id": "3906f2dbde2e4dcbae5b9f34727785a9",
       "version_major": 2,
       "version_minor": 0
      },
      "text/plain": [
       "HBox(children=(IntProgress(value=0, description='Batches', max=141, style=ProgressStyle(description_width='ini…"
      ]
     },
     "metadata": {},
     "output_type": "display_data"
    },
    {
     "name": "stdout",
     "output_type": "stream",
     "text": [
      "\n"
     ]
    }
   ],
   "source": [
    "#Extract features/labels for inscope set\n",
    "train_features, train_labels, label_maps = create_dataset(train, label_maps=None)\n",
    "val_features, val_labels, _ = create_dataset(val, label_maps=label_maps)\n",
    "test_features, test_labels, _ = create_dataset(test, label_maps=label_maps)"
   ]
  },
  {
   "cell_type": "code",
   "execution_count": 8,
   "metadata": {
    "id": "OdXFlR0DTZHc"
   },
   "outputs": [],
   "source": [
    "#save features/labels for inscope set\n",
    "np.savez('train_val_test_'+model_name+'.npz',train_features=train_features,\n",
    "                              train_labels = train_labels, \n",
    "                              val_features=val_features, \n",
    "                              val_labels=val_labels,\n",
    "                              test_features=test_features, \n",
    "                              test_labels=test_labels,\n",
    "                              label_maps=label_maps, allow_pickle=True)"
   ]
  },
  {
   "cell_type": "code",
   "execution_count": 9,
   "metadata": {
    "colab": {
     "base_uri": "https://localhost:8080/",
     "height": 265
    },
    "id": "mlK61LZVUabg",
    "outputId": "8442b83e-08ea-48d9-f32c-790353cf2552"
   },
   "outputs": [
    {
     "data": {
      "text/plain": [
       "<Figure size 640x480 with 1 Axes>"
      ]
     },
     "metadata": {},
     "output_type": "display_data"
    }
   ],
   "source": [
    "#plot label histogram\n",
    "import numpy as np\n",
    "import matplotlib.pyplot as plt\n",
    "plt.hist(train_labels, bins=50)\n",
    "plt.show()"
   ]
  },
  {
   "cell_type": "code",
   "execution_count": 10,
   "metadata": {
    "id": "7FAVCqClUw7V"
   },
   "outputs": [
    {
     "data": {
      "application/vnd.jupyter.widget-view+json": {
       "model_id": "dff890adbe1b4536876eb8647b3b31dd",
       "version_major": 2,
       "version_minor": 0
      },
      "text/plain": [
       "HBox(children=(IntProgress(value=0, description='Batches', max=4, style=ProgressStyle(description_width='initi…"
      ]
     },
     "metadata": {},
     "output_type": "display_data"
    },
    {
     "name": "stdout",
     "output_type": "stream",
     "text": [
      "\n"
     ]
    },
    {
     "data": {
      "application/vnd.jupyter.widget-view+json": {
       "model_id": "e3a93c9eea9d498f9848c1086f94808f",
       "version_major": 2,
       "version_minor": 0
      },
      "text/plain": [
       "HBox(children=(IntProgress(value=0, description='Batches', max=4, style=ProgressStyle(description_width='initi…"
      ]
     },
     "metadata": {},
     "output_type": "display_data"
    },
    {
     "name": "stdout",
     "output_type": "stream",
     "text": [
      "\n"
     ]
    },
    {
     "data": {
      "application/vnd.jupyter.widget-view+json": {
       "model_id": "5c9b2770aef844f9b054adb780f5c952",
       "version_major": 2,
       "version_minor": 0
      },
      "text/plain": [
       "HBox(children=(IntProgress(value=0, description='Batches', max=32, style=ProgressStyle(description_width='init…"
      ]
     },
     "metadata": {},
     "output_type": "display_data"
    },
    {
     "name": "stdout",
     "output_type": "stream",
     "text": [
      "\n"
     ]
    }
   ],
   "source": [
    "#Extract features/labels for oos set\n",
    "train_features_oos, train_labels_oos, label_maps_oos = create_dataset(oos_train, label_maps=None)\n",
    "val_features_oos, val_labels_oos, _ = create_dataset(oos_val, label_maps=label_maps_oos)\n",
    "test_features_oos, test_labels_oos, _ = create_dataset(oos_test, label_maps=label_maps_oos)"
   ]
  },
  {
   "cell_type": "code",
   "execution_count": 11,
   "metadata": {
    "id": "mk_S7yTmU1y0"
   },
   "outputs": [],
   "source": [
    "#save features/labels for oos set\n",
    "np.savez('train_val_test_oos_'+model_name+'.npz',\n",
    "                              train_features_oos=train_features_oos,\n",
    "                              train_labels_oos = train_labels_oos, \n",
    "                              val_features_oos=val_features_oos, \n",
    "                              val_labels_oos=val_labels_oos,\n",
    "                              test_features_oos=test_features_oos, \n",
    "                              test_labels_oos=test_labels_oos,\n",
    "                              label_maps_oos=label_maps_oos, allow_pickle=True)"
   ]
  },
  {
   "cell_type": "code",
   "execution_count": 12,
   "metadata": {
    "colab": {
     "base_uri": "https://localhost:8080/"
    },
    "id": "aYmRUKaZU6RX",
    "outputId": "ab845f09-c3ce-4d53-aa2d-338e92a27dd7"
   },
   "outputs": [
    {
     "data": {
      "text/plain": [
       "({'oos': 0}, {0: 'oos'})"
      ]
     },
     "execution_count": 12,
     "metadata": {},
     "output_type": "execute_result"
    }
   ],
   "source": [
    "label_maps_oos"
   ]
  },
  {
   "cell_type": "code",
   "execution_count": 13,
   "metadata": {
    "colab": {
     "base_uri": "https://localhost:8080/"
    },
    "id": "vYDIXMs4U8kO",
    "outputId": "bcd6a17d-fd85-45f7-b179-228841bb890e"
   },
   "outputs": [
    {
     "name": "stdout",
     "output_type": "stream",
     "text": [
      "oos_val 100\n",
      "val 3000\n",
      "train 10525\n",
      "oos_test 1000\n",
      "test 4500\n",
      "oos_train 100\n"
     ]
    }
   ],
   "source": [
    "for k in  data.keys():\n",
    "    print(k, len(data[k]))"
   ]
  },
  {
   "cell_type": "code",
   "execution_count": null,
   "metadata": {},
   "outputs": [],
   "source": []
  }
 ],
 "metadata": {
  "colab": {
   "authorship_tag": "ABX9TyNOmON+G7XybGQOBKV+dXpf",
   "collapsed_sections": [],
   "name": "feature_extract.ipynb",
   "provenance": []
  },
  "kernelspec": {
   "display_name": "Python 3",
   "language": "python",
   "name": "python3"
  },
  "language_info": {
   "codemirror_mode": {
    "name": "ipython",
    "version": 3
   },
   "file_extension": ".py",
   "mimetype": "text/x-python",
   "name": "python",
   "nbconvert_exporter": "python",
   "pygments_lexer": "ipython3",
   "version": "3.7.2"
  }
 },
 "nbformat": 4,
 "nbformat_minor": 1
}
